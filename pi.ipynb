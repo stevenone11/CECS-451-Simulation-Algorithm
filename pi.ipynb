{
 "cells": [
  {
   "cell_type": "code",
   "execution_count": null,
   "metadata": {},
   "outputs": [
    {
     "name": "stdout",
     "output_type": "stream",
     "text": [
      "with 1000 points, estimated pi is: 3.216000, error percentage is 2.3685 %\n"
     ]
    },
    {
     "data": {
      "image/png": "[encoded data removed]",
      "text/plain": [
       "<Figure size 432x288 with 1 Axes>"
      ]
     },
     "metadata": {
      "needs_background": "light"
     },
     "output_type": "display_data"
    },
    {
     "name": "stdout",
     "output_type": "stream",
     "text": [
      "with 10000 points, estimated pi is: 3.133200, error percentage is 0.2671 %\n"
     ]
    }
   ],
   "source": [
    "# we will both plot random points in a graph\n",
    "# and calculate the pi based on the ranomly plotted points\n",
    "import random\n",
    "import math\n",
    "import numpy as np\n",
    "import matplotlib.pyplot as plt\n",
    "\n",
    "# function that takes in the number of points n and makes that many of points in the \n",
    "# allPoints set, makes no repeats because its a set, also adds them to individual sets\n",
    "# both in the circle and outside of it\n",
    "def createSet(nPoints, xRange, yRange, allPoints):\n",
    "    coordsInCircle = set()\n",
    "    coordsOutsideOfCircle = set()\n",
    "\n",
    "    for i in range(nPoints):\n",
    "        x = random.uniform(0,xRange)\n",
    "        y = random.uniform(0,yRange)\n",
    "\n",
    "        allPoints.add((x,y))\n",
    "\n",
    "        # calculates if the points are in the radius of the circle\n",
    "        if x**2 + y **2 < 1:\n",
    "            coordsInCircle.add((x,y))\n",
    "        else:\n",
    "            coordsOutsideOfCircle.add((x,y))\n",
    "\n",
    "    # returns both sets made\n",
    "    return coordsInCircle, coordsOutsideOfCircle\n",
    "\n",
    "\n",
    "# checks error\n",
    "def calcError(nSize, circleCords):\n",
    "    estPi = (len(circleCords) / nSize) * 4\n",
    "\n",
    "    errorVal = abs(((math.pi - estPi)*100)/ math.pi)\n",
    "\n",
    "    print(\"with {0:} points, estimated pi is: {1:.6f}, error percentage is {2:.4f} %\".format(nSize, estPi, errorVal))\n",
    "    return estPi, errorVal\n",
    "\n",
    "\n",
    "# plots the points in and outside of th circle\n",
    "def plotGraph(circleCords, outCircleCords, errorVal, estPi):\n",
    "    for point in circleCords:\n",
    "        plt.scatter(point[0], point[1], .1, color='b')\n",
    "    for point in outCircleCords:\n",
    "        plt.scatter(point[0], point[1], .1, color='r')\n",
    "    plt.xlabel(\"X\")\n",
    "    plt.ylabel(\"Y\")\n",
    "    plt.title(\"Simulation Method: calculating pi \" + str(round(estPi,6)) +\" with error value: \" + str(round(errorVal,4)) + \"%\") \n",
    "    plt.show()\n",
    "    plt.close()\n",
    "\n",
    "\n",
    "# runs the entire simulation and returns the graph with the points\n",
    "def runSimulation(nPoints):\n",
    "    xRange = 1\n",
    "    yRange = 1\n",
    "    allPoints = set()\n",
    "\n",
    "    # creates the set in circle, total set and outside of the circle\n",
    "    coordsInCircle, coordsOutsideOfCircle = createSet(nPoints, xRange, yRange, allPoints)\n",
    "\n",
    "    # creates the pi and error value\n",
    "    estPi, errorVal = calcError(nPoints, coordsInCircle)\n",
    "\n",
    "    # plots the points on the graph\n",
    "    plotGraph(coordsInCircle, coordsOutsideOfCircle, errorVal, estPi)\n",
    "\n",
    "\n",
    "def main():\n",
    "    nSize = 10 ** 3\n",
    "    runSimulation(nSize)\n",
    "    nSize = 10 ** 4\n",
    "    runSimulation(nSize)\n",
    "    nSize = 10 ** 5\n",
    "    runSimulation(nSize)\n",
    "    nSize = 10 ** 6\n",
    "    runSimulation(nSize)\n",
    "\n",
    "main()"
   ]
  }
 ],
 "metadata": {
  "kernelspec": {
   "display_name": "Python 3",
   "language": "python",
   "name": "python3"
  },
  "language_info": {
   "codemirror_mode": {
    "name": "ipython",
    "version": 3
   },
   "file_extension": ".py",
   "mimetype": "text/x-python",
   "name": "python",
   "nbconvert_exporter": "python",
   "pygments_lexer": "ipython3",
   "version": "3.8.3"
  }
 },
 "nbformat": 4,
 "nbformat_minor": 4
}
